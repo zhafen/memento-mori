{
 "cells": [
  {
   "cell_type": "code",
   "execution_count": 1,
   "metadata": {},
   "outputs": [],
   "source": [
    "import unyt as u"
   ]
  },
  {
   "cell_type": "markdown",
   "metadata": {},
   "source": [
    "# Concept\n",
    "You can't plan out your life in every detail. But maybe you can at least get an idea of what is/isn't feasible. This notebook is for exactly that."
   ]
  },
  {
   "cell_type": "markdown",
   "metadata": {},
   "source": [
    "# Parameters"
   ]
  },
  {
   "cell_type": "code",
   "execution_count": 2,
   "metadata": {},
   "outputs": [],
   "source": [
    "# Amount of work\n",
    "t_work_week = 40. * u.hour\n",
    "n_work_week_year = 52"
   ]
  },
  {
   "cell_type": "code",
   "execution_count": 3,
   "metadata": {},
   "outputs": [],
   "source": [
    "# Amount of life\n",
    "start_age = 20.\n",
    "end_age = 65.\n",
    "current_age = 30."
   ]
  },
  {
   "cell_type": "code",
   "execution_count": 4,
   "metadata": {},
   "outputs": [],
   "source": [
    "# Rough estimates of how long a project takes, in units of work years\n",
    "t_proj_per_workyear_lower = 1. / 12.\n",
    "t_proj_per_workyear_upper = 1."
   ]
  },
  {
   "cell_type": "code",
   "execution_count": 5,
   "metadata": {},
   "outputs": [],
   "source": [
    "# How long do you have left in your current work cycle (e.g. until you next apply for jobs), in units of work years\n",
    "t_cycle_per_workyear = 2."
   ]
  },
  {
   "cell_type": "markdown",
   "metadata": {},
   "source": [
    "# Overall Stats"
   ]
  },
  {
   "cell_type": "code",
   "execution_count": 6,
   "metadata": {},
   "outputs": [
    {
     "name": "stdout",
     "output_type": "stream",
     "text": [
      "Work hours per month = 173 hr\n",
      "Work hours per year = 2.08e+03 hr\n"
     ]
    }
   ],
   "source": [
    "# Work per year\n",
    "t_work_year = n_work_week_year * t_work_week\n",
    "t_work_month = t_work_year / 12.\n",
    "\n",
    "print( 'Work hours per month = {:.3g}'.format( t_work_month ) )\n",
    "print( 'Work hours per year = {:.3g}'.format( t_work_year ) )"
   ]
  },
  {
   "cell_type": "code",
   "execution_count": 12,
   "metadata": {},
   "outputs": [
    {
     "name": "stdout",
     "output_type": "stream",
     "text": [
      "Work hours per life = 9.4e+04 hr\n",
      "Work hours per life left = 7.3e+04 hr\n",
      "Percent of work life left = 78 %\n"
     ]
    }
   ],
   "source": [
    "# Work per life\n",
    "t_work_life = ( end_age - start_age ) * t_work_year\n",
    "t_work_life_left = ( end_age - current_age ) * t_work_year\n",
    "print( 'Work hours per life = {:.2g}'.format( t_work_life ) )\n",
    "print( 'Work hours per life left = {:.2g}'.format( t_work_life_left ) )\n",
    "print( 'Percent of work life left = {:.2g}%'.format( ( t_work_life_left / t_work_life ).value *100. ) )"
   ]
  },
  {
   "cell_type": "code",
   "execution_count": 14,
   "metadata": {},
   "outputs": [
    {
     "name": "stdout",
     "output_type": "stream",
     "text": [
      "Number of projects per life = 45 to 540\n",
      "Number of projects left = 35 to 420\n"
     ]
    }
   ],
   "source": [
    "# Number of projects per life \n",
    "t_proj_lower = t_proj_per_workyear_lower * t_work_year\n",
    "t_proj_upper = t_proj_per_workyear_upper * t_work_year\n",
    "n_proj_lower = t_work_life / t_proj_upper\n",
    "n_proj_upper = t_work_life / t_proj_lower\n",
    "n_proj_left_lower = t_work_life_left / t_proj_upper\n",
    "n_proj_left_upper = t_work_life_left / t_proj_lower\n",
    "print( 'Number of projects per life = {:.3g} to {:.3g}'.format( n_proj_lower.value, n_proj_upper.value ) )\n",
    "print( 'Number of projects left = {:.3g} to {:.3g}'.format( n_proj_left_lower.value, n_proj_left_upper.value ) )"
   ]
  },
  {
   "cell_type": "code",
   "execution_count": 11,
   "metadata": {},
   "outputs": [
    {
     "name": "stdout",
     "output_type": "stream",
     "text": [
      "Number of projects left until job re-evaluation = 2 to 24\n",
      "This work cycle constitutes 5.7% of your remaining work life.\n"
     ]
    }
   ],
   "source": [
    "# Number of projects per work cycle\n",
    "n_proj_cycle_lower = t_cycle_per_workyear / t_proj_per_workyear_upper\n",
    "n_proj_cycle_upper = t_cycle_per_workyear / t_proj_per_workyear_lower\n",
    "f_of_worklife_per_cycle = ( t_cycle_per_workyear * t_work_year / t_work_life_left ).value\n",
    "print( 'Number of projects left until job re-evaluation = {:.3g} to {:.3g}'.format( n_proj_cycle_lower, n_proj_cycle_upper ) )\n",
    "print( 'This work cycle constitutes {:.2g}% of your remaining work life.'.format( f_of_worklife_per_cycle * 100 ) )"
   ]
  },
  {
   "cell_type": "code",
   "execution_count": null,
   "metadata": {},
   "outputs": [],
   "source": []
  }
 ],
 "metadata": {
  "kernelspec": {
   "display_name": "Python 3",
   "language": "python",
   "name": "python3"
  },
  "language_info": {
   "codemirror_mode": {
    "name": "ipython",
    "version": 3
   },
   "file_extension": ".py",
   "mimetype": "text/x-python",
   "name": "python",
   "nbconvert_exporter": "python",
   "pygments_lexer": "ipython3",
   "version": "3.8.3"
  }
 },
 "nbformat": 4,
 "nbformat_minor": 4
}
